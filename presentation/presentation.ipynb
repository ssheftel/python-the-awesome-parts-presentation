{
 "cells": [
  {
   "cell_type": "markdown",
   "metadata": {
    "slideshow": {
     "slide_type": "slide"
    }
   },
   "source": [
    "# Python The Awesome Parts"
   ]
  },
  {
   "cell_type": "markdown",
   "metadata": {
    "slideshow": {
     "slide_type": "fragment"
    }
   },
   "source": [
    "## *(Why I love Python and what are some of my favorite features)*"
   ]
  },
  {
   "cell_type": "markdown",
   "metadata": {
    "slideshow": {
     "slide_type": "slide"
    }
   },
   "source": [
    "# Background\n",
    "\n",
    "- \"Python is an interpreted high-level programming language for general-purpose programming\" [(wiki)](https://en.wikipedia.org/wiki/Python_(programming_language)\n",
    "- Created by Guido van Rossum and release in 1991\n",
    "- Major companies using python include:\n",
    "    - Google (especially Youtube)\n",
    "    - Gacebook (especially Instagram)\n",
    "    - Dropbox\n",
    "- Latest major versions are Python 2.7 and 3.6"
   ]
  },
  {
   "cell_type": "markdown",
   "metadata": {
    "slideshow": {
     "slide_type": "slide"
    }
   },
   "source": [
    "# Popularity\n",
    "- Python is one of the most widely used languages\n",
    "- Python is *lingua franca* for data science, now more popular than R\n",
    "- Python is the \"fastest-growing major programming language\" according to [Stack Overflow](https://stackoverflow.blog/2017/09/06/incredible-growth-python/)\n",
    "- As of late 2017 Python is more popular than Java [Stack Overflow](https://insights.stackoverflow.com/trends?tags=python%2Cjavascript%2Cjava%2Cphp%2Cc%2B%2B&utm_source=so-owned&utm_medium=blog&utm_campaign=gen-blog&utm_content=blog-link&utm_term=incredible-growth-python)"
   ]
  },
  {
   "cell_type": "markdown",
   "metadata": {
    "slideshow": {
     "slide_type": "subslide"
    }
   },
   "source": [
    "![Alt text](./resources/percent-stack-overflow-questions-by-month.svg)\n",
    "\n",
    "Percent of Stack Overflow Questions by Month. Source: [Stack Overflow](https://goo.gl/P51YRN)"
   ]
  },
  {
   "cell_type": "markdown",
   "metadata": {
    "slideshow": {
     "slide_type": "subslide"
    }
   },
   "source": [
    "![Alt text](./resources/fastest-growing-screenshot.png)\n",
    "\n",
    "Source: [Stack Overflow](https://stackoverflow.blog/2017/09/06/incredible-growth-python/)"
   ]
  },
  {
   "cell_type": "markdown",
   "metadata": {
    "slideshow": {
     "slide_type": "subslide"
    }
   },
   "source": [
    "![Alt Text](./resources/projections-traffic.png)\n",
    "\n",
    "Source: [Stack Overflow](https://stackoverflow.blog/2017/09/06/incredible-growth-python/)"
   ]
  },
  {
   "cell_type": "markdown",
   "metadata": {
    "slideshow": {
     "slide_type": "slide"
    }
   },
   "source": [
    "# Place Holder - Why it should be considered for use"
   ]
  },
  {
   "cell_type": "markdown",
   "metadata": {
    "slideshow": {
     "slide_type": "slide"
    }
   },
   "source": [
    "# Place Holder - Python a Superior Tool"
   ]
  },
  {
   "cell_type": "markdown",
   "metadata": {
    "slideshow": {
     "slide_type": "slide"
    }
   },
   "source": [
    "# The Zen of Python"
   ]
  },
  {
   "cell_type": "code",
   "execution_count": null,
   "metadata": {
    "slideshow": {
     "slide_type": "fragment"
    }
   },
   "outputs": [],
   "source": [
    "import this"
   ]
  },
  {
   "cell_type": "markdown",
   "metadata": {
    "slideshow": {
     "slide_type": "slide"
    }
   },
   "source": [
    "The Zen of Python, by Tim Peters\n",
    "\n",
    "- Beautiful is better than ugly.\n",
    "- Explicit is better than implicit.\n",
    "- Simple is better than complex.\n",
    "- Complex is better than complicated.\n",
    "- Flat is better than nested.\n",
    "= Sparse is better than dense.\n",
    "- Readability counts.\n",
    "- Special cases aren't special enough to break the rules.\n",
    "- Although practicality beats purity.\n",
    "- Errors should never pass silently.\n",
    "- Unless explicitly silenced.\n",
    "- In the face of ambiguity, refuse the temptation to guess.\n",
    "- There should be one-- and preferably only one --obvious way to do it.\n",
    "- Although that way may not be obvious at first unless you're Dutch.\n",
    "- Now is better than never.\n",
    "- Although never is often better than *right* now.\n",
    "- If the implementation is hard to explain, it's a bad idea.\n",
    "- If the implementation is easy to explain, it may be a good idea.\n",
    "- Namespaces are one honking great idea -- let's do more of those!"
   ]
  },
  {
   "cell_type": "markdown",
   "metadata": {
    "slideshow": {
     "slide_type": "slide"
    }
   },
   "source": [
    "# Readability counts."
   ]
  },
  {
   "cell_type": "markdown",
   "metadata": {
    "slideshow": {
     "slide_type": "slide"
    }
   },
   "source": [
    "# Simple is better than complex."
   ]
  },
  {
   "cell_type": "markdown",
   "metadata": {
    "slideshow": {
     "slide_type": "slide"
    }
   },
   "source": [
    "# Practicality beats purity."
   ]
  },
  {
   "cell_type": "markdown",
   "metadata": {
    "slideshow": {
     "slide_type": "slide"
    }
   },
   "source": [
    "# There should be one-- and preferably only one --obvious way to do it."
   ]
  },
  {
   "cell_type": "markdown",
   "metadata": {
    "slideshow": {
     "slide_type": "slide"
    }
   },
   "source": [
    "# Explicit is better than implicit."
   ]
  },
  {
   "cell_type": "markdown",
   "metadata": {
    "slideshow": {
     "slide_type": "slide"
    }
   },
   "source": [
    "# If the implementation is hard to explain, it's a bad idea."
   ]
  },
  {
   "cell_type": "markdown",
   "metadata": {
    "slideshow": {
     "slide_type": "slide"
    }
   },
   "source": [
    "# The Awesome Parts"
   ]
  },
  {
   "cell_type": "markdown",
   "metadata": {},
   "source": [
    "# Comprehension\n",
    "\n",
    "A way of building collection"
   ]
  },
  {
   "cell_type": "code",
   "execution_count": 16,
   "metadata": {},
   "outputs": [],
   "source": [
    "# some of the common collection types\n",
    "l = ['a', 'b', 'c', 'd'] #  list - ordered, mutable, array based\n",
    "t = ('a', 'b', 'c', 'd') # tuple - ordered, immuntable\n",
    "s = {'a', 'b', 'c', 'd'} # set - unorder, mutable, hash based\n",
    "d = {'a': 97, 'b':98, 'c': 99, 'd':100} # dict - unorder, mutable, key -> value, hash based"
   ]
  },
  {
   "cell_type": "code",
   "execution_count": 12,
   "metadata": {
    "slideshow": {
     "slide_type": "slide"
    }
   },
   "outputs": [],
   "source": [
    "letters = ['a', 'b', 'c', 'd'] # list\n",
    "# lets get the ascii value of each letter\n"
   ]
  },
  {
   "cell_type": "code",
   "execution_count": 14,
   "metadata": {
    "slideshow": {
     "slide_type": "fragment"
    }
   },
   "outputs": [
    {
     "data": {
      "text/plain": [
       "[97, 98, 99, 100]"
      ]
     },
     "execution_count": 14,
     "metadata": {},
     "output_type": "execute_result"
    }
   ],
   "source": [
    "[ord(letter) for letter in letters]"
   ]
  },
  {
   "cell_type": "code",
   "execution_count": 18,
   "metadata": {
    "slideshow": {
     "slide_type": "slide"
    }
   },
   "outputs": [],
   "source": [
    "letters = ['a', 'b', 'c', 'd'] # list\n",
    "# only odd ascii value\n",
    "# letters.filter(l -> ord(l)%2).map(l -> ord(l))"
   ]
  },
  {
   "cell_type": "code",
   "execution_count": 17,
   "metadata": {
    "slideshow": {
     "slide_type": "fragment"
    }
   },
   "outputs": [
    {
     "data": {
      "text/plain": [
       "[97, 99]"
      ]
     },
     "execution_count": 17,
     "metadata": {},
     "output_type": "execute_result"
    }
   ],
   "source": [
    "[ord(letter) for letter in letters if ord(letter) % 2]"
   ]
  },
  {
   "cell_type": "markdown",
   "metadata": {
    "slideshow": {
     "slide_type": "slide"
    }
   },
   "source": [
    "## Dictionary Comprehension\n",
    "\n",
    "- building a dictionary instance by producing `key:value` pairs from an iterable"
   ]
  },
  {
   "cell_type": "code",
   "execution_count": 21,
   "metadata": {
    "slideshow": {
     "slide_type": "slide"
    }
   },
   "outputs": [],
   "source": [
    "letters = ['a', 'b', 'c', 'd'] # list\n",
    "# mapping between letter and ascii letters"
   ]
  },
  {
   "cell_type": "code",
   "execution_count": 22,
   "metadata": {
    "slideshow": {
     "slide_type": "fragment"
    }
   },
   "outputs": [
    {
     "data": {
      "text/plain": [
       "{'a': 97, 'b': 98, 'c': 99, 'd': 100}"
      ]
     },
     "execution_count": 22,
     "metadata": {},
     "output_type": "execute_result"
    }
   ],
   "source": [
    "{letter:ord(letter) for letter in letters}"
   ]
  },
  {
   "cell_type": "code",
   "execution_count": 23,
   "metadata": {
    "slideshow": {
     "slide_type": "fragment"
    }
   },
   "outputs": [
    {
     "data": {
      "text/plain": [
       "{'a': 97, 'c': 99}"
      ]
     },
     "execution_count": 23,
     "metadata": {},
     "output_type": "execute_result"
    }
   ],
   "source": [
    "{letter:ord(letter) for letter in letters if ord(letter) % 2}"
   ]
  },
  {
   "cell_type": "markdown",
   "metadata": {
    "slideshow": {
     "slide_type": "slide"
    }
   },
   "source": [
    "## Set Comprehension"
   ]
  },
  {
   "cell_type": "code",
   "execution_count": 26,
   "metadata": {
    "slideshow": {
     "slide_type": "slide"
    }
   },
   "outputs": [
    {
     "data": {
      "text/plain": [
       "[97, 98, 99, 100, 97, 100]"
      ]
     },
     "execution_count": 26,
     "metadata": {},
     "output_type": "execute_result"
    }
   ],
   "source": [
    "letters = ['a', 'b', 'c', 'd', 'a', 'd']\n",
    "[ord(letter) for letter in letters]"
   ]
  },
  {
   "cell_type": "code",
   "execution_count": 27,
   "metadata": {
    "slideshow": {
     "slide_type": "fragment"
    }
   },
   "outputs": [
    {
     "data": {
      "text/plain": [
       "{97, 98, 99, 100}"
      ]
     },
     "execution_count": 27,
     "metadata": {},
     "output_type": "execute_result"
    }
   ],
   "source": [
    "{ord(letter) for letter in letters}"
   ]
  },
  {
   "cell_type": "code",
   "execution_count": 33,
   "metadata": {
    "slideshow": {
     "slide_type": "slide"
    }
   },
   "outputs": [
    {
     "name": "stdout",
     "output_type": "stream",
     "text": [
      "['A♠️', 'A♣️', 'A♥️', 'A♦️', '2♠️', '2♣️', '2♥️', '2♦️', '3♠️', '3♣️', '3♥️', '3♦️', '4♠️', '4♣️', '4♥️', '4♦️', '5♠️', '5♣️', '5♥️', '5♦️', '6♠️', '6♣️', '6♥️', '6♦️', '7♠️', '7♣️', '7♥️', '7♦️', '8♠️', '8♣️', '8♥️', '8♦️', '9♠️', '9♣️', '9♥️', '9♦️', '10♠️', '10♣️', '10♥️', '10♦️', 'J♠️', 'J♣️', 'J♥️', 'J♦️', 'Q♠️', 'Q♣️', 'Q♥️', 'Q♦️', 'K♠️', 'K♣️', 'K♥️', 'K♦️']\n"
     ]
    }
   ],
   "source": [
    "suits = ['♠️', '♣️', '♥️', '♦️']\n",
    "ranks = ['A', '2', '3', '4', '5', '6', '7', '8', '9', '10', 'J', 'Q', 'K']\n",
    "deck = [f'{rank}{suit}' for rank in ranks for suit in suits]\n",
    "print(deck)"
   ]
  },
  {
   "cell_type": "code",
   "execution_count": 40,
   "metadata": {
    "slideshow": {
     "slide_type": "slide"
    }
   },
   "outputs": [
    {
     "name": "stdout",
     "output_type": "stream",
     "text": [
      "['A♣️', '2♣️', '3♣️', '4♣️', '5♣️', '6♣️', '7♣️', '8♣️', '9♣️', '10♣️', 'J♣️', 'Q♣️', 'K♣️']\n",
      "['A♦️', '2♦️', '3♦️', '4♦️', '5♦️', '6♦️', '7♦️', '8♦️', '9♦️', '10♦️', 'J♦️', 'Q♦️', 'K♦️']\n"
     ]
    }
   ],
   "source": [
    "suits = ['♠️', '♣️', '♥️', '♦️']\n",
    "ranks = ['A', '2', '3', '4', '5', '6', '7', '8', '9', '10', 'J', 'Q', 'K']\n",
    "\n",
    "deck = {suit:[f'{rank}{suit}' for rank in ranks] for suit in suits} # composable\n",
    "\n",
    "print(deck['♣️'])\n",
    "print(deck['♦️'])"
   ]
  },
  {
   "cell_type": "markdown",
   "metadata": {
    "slideshow": {
     "slide_type": "slide"
    }
   },
   "source": [
    "# Unpacking and *args"
   ]
  },
  {
   "cell_type": "code",
   "execution_count": 43,
   "metadata": {
    "slideshow": {
     "slide_type": "slide"
    }
   },
   "outputs": [
    {
     "name": "stdout",
     "output_type": "stream",
     "text": [
      "b\n"
     ]
    }
   ],
   "source": [
    "first, second, third, forth = ['a', 'b', 'c', 'd']\n",
    "\n",
    "print(second)"
   ]
  },
  {
   "cell_type": "code",
   "execution_count": 45,
   "metadata": {
    "slideshow": {
     "slide_type": "slide"
    }
   },
   "outputs": [
    {
     "name": "stdout",
     "output_type": "stream",
     "text": [
      "['b', 'c']\n",
      "d\n"
     ]
    }
   ],
   "source": [
    "first, *middle, last = ['a', 'b', 'c', 'd']\n",
    "print(middle)\n",
    "print(last)"
   ]
  },
  {
   "cell_type": "code",
   "execution_count": 49,
   "metadata": {
    "slideshow": {
     "slide_type": "slide"
    }
   },
   "outputs": [
    {
     "name": "stdout",
     "output_type": "stream",
     "text": [
      "['a', 'b', 'c', 'd', 'e', 'f', 'g']\n"
     ]
    }
   ],
   "source": [
    "# * is used to unpack collections\n",
    "list_one = ['a', 'b', 'c']\n",
    "list_two = ['d', 'e', 'f']\n",
    "\n",
    "a_list = [\n",
    "    *list_one,\n",
    "    *list_two,\n",
    "    'g'\n",
    "]\n",
    "print(a_list)"
   ]
  },
  {
   "cell_type": "code",
   "execution_count": 58,
   "metadata": {
    "slideshow": {
     "slide_type": "slide"
    }
   },
   "outputs": [
    {
     "name": "stdout",
     "output_type": "stream",
     "text": [
      "{'a': 97, 'b': 98, 'c': 99, 'd': 100, 'e': 101, 'f': 102, 'g': 103}\n"
     ]
    }
   ],
   "source": [
    "# ** is used to unpack dictionaries\n",
    "dict_one = {'a': 97, 'b': 98, 'c': 99}\n",
    "dict_two = {'d': 100, 'e': 101, 'f': 102}\n",
    "a_dict = {\n",
    "    **dict_one,\n",
    "    **dict_two,\n",
    "    'g': 103,\n",
    "}\n",
    "print(a_dict)"
   ]
  },
  {
   "cell_type": "code",
   "execution_count": 60,
   "metadata": {
    "slideshow": {
     "slide_type": "slide"
    }
   },
   "outputs": [
    {
     "data": {
      "text/plain": [
       "'b'"
      ]
     },
     "execution_count": 60,
     "metadata": {},
     "output_type": "execute_result"
    }
   ],
   "source": [
    "# * and ** also work in function invocation\n",
    "def fn(param1, param2, param3):\n",
    "    return param2\n",
    "\n",
    "list_one = ['a', 'b', 'c']\n",
    "fn(*list_one)"
   ]
  },
  {
   "cell_type": "code",
   "execution_count": 62,
   "metadata": {
    "slideshow": {
     "slide_type": "slide"
    }
   },
   "outputs": [
    {
     "data": {
      "text/plain": [
       "20"
      ]
     },
     "execution_count": 62,
     "metadata": {},
     "output_type": "execute_result"
    }
   ],
   "source": [
    "def fn(*, width, hight): # keyword only arguments\n",
    "    return width * hight\n",
    "\n",
    "dict_one = {'width': 10, 'hight': 2}\n",
    "fn(**dict_one)"
   ]
  },
  {
   "cell_type": "markdown",
   "metadata": {
    "slideshow": {
     "slide_type": "slide"
    }
   },
   "source": [
    "## Argument packing in function definitions with `*args` and `**kwargs`"
   ]
  },
  {
   "cell_type": "code",
   "execution_count": 64,
   "metadata": {},
   "outputs": [
    {
     "name": "stdout",
     "output_type": "stream",
     "text": [
      "sam\n",
      "('python', 'javascript', 'java')\n",
      "{'location': 'chicago', 'phone': '1234567890'}\n"
     ]
    }
   ],
   "source": [
    "def fn(param1, *args, **kwargs):\n",
    "    print(param1)\n",
    "    print(args)\n",
    "    print(kwargs)\n",
    "    \n",
    "fn('sam', 'python', 'javascript', 'java', location='chicago', phone='1234567890')"
   ]
  },
  {
   "cell_type": "markdown",
   "metadata": {
    "slideshow": {
     "slide_type": "slide"
    }
   },
   "source": [
    "# Decorators\n",
    "\n",
    "```python\n",
    "@log                    # <-- decorators\n",
    "def cost(price, count):\n",
    "    return price * count\n",
    "```"
   ]
  },
  {
   "cell_type": "markdown",
   "metadata": {
    "slideshow": {
     "slide_type": "fragment"
    }
   },
   "source": [
    "- syntax: `@` on line(s) before a function or class definition\n",
    "- used to modification or injection of code into a function or class:\n",
    "    - add enter/exit logic\n",
    "    - modify arguments\n",
    "    - call logging/tracing\n",
    "    - customize/tweak\n",
    "\n",
    "- Using decorator can promote clean separation of concerns"
   ]
  },
  {
   "cell_type": "markdown",
   "metadata": {
    "slideshow": {
     "slide_type": "slide"
    }
   },
   "source": [
    "# Decorators ≠ Annotations or AOP\n",
    "\n",
    "- Python Decorators:\n",
    "    - simply functions, typically take a function as an argument and return function\n",
    "    - run at import/definition time\n",
    "    - only functions and classes can be decorated\n",
    "- Java Annotations:\n",
    "    - are metadata which have no effect without a AOP container\n",
    "    - can be attached classes, methods, fields, parameters, or variables"
   ]
  },
  {
   "cell_type": "markdown",
   "metadata": {
    "slideshow": {
     "slide_type": "slide"
    }
   },
   "source": [
    "# Decorators > Annotations\n",
    "\n",
    "> \"[Decorators] Sounds a bit like Aspect-Oriented Programming (AOP) in Java, doesn't it? Except that it's both much simpler and (as a result) much more powerful\" - Bruce Eckel"
   ]
  },
  {
   "cell_type": "code",
   "execution_count": 66,
   "metadata": {
    "slideshow": {
     "slide_type": "slide"
    }
   },
   "outputs": [
    {
     "data": {
      "text/plain": [
       "3"
      ]
     },
     "execution_count": 66,
     "metadata": {},
     "output_type": "execute_result"
    }
   ],
   "source": [
    "def null_decorator(fn):\n",
    "    return fn\n",
    "\n",
    "@null_decorator\n",
    "def sum(a, b):\n",
    "    return a + b\n",
    "\n",
    "\n",
    "sum(1, 2)"
   ]
  },
  {
   "cell_type": "code",
   "execution_count": null,
   "metadata": {
    "slideshow": {
     "slide_type": "slide"
    }
   },
   "outputs": [],
   "source": [
    "@null_decorator\n",
    "def sum(a, b):\n",
    "    return a + b"
   ]
  },
  {
   "cell_type": "code",
   "execution_count": 67,
   "metadata": {
    "slideshow": {
     "slide_type": "fragment"
    }
   },
   "outputs": [],
   "source": [
    "# is equivlent to\n",
    "\n",
    "def sum(a, b):\n",
    "    return a + b\n",
    "sum = null_decorator(sum)"
   ]
  },
  {
   "cell_type": "markdown",
   "metadata": {
    "slideshow": {
     "slide_type": "fragment"
    }
   },
   "source": [
    "1. define the original function and bind it to its name\n",
    "2. call the decorator with the function as an argument and then\n",
    "3. rebind the original functions name to the value returned by #2"
   ]
  },
  {
   "cell_type": "code",
   "execution_count": 69,
   "metadata": {
    "slideshow": {
     "slide_type": "slide"
    }
   },
   "outputs": [
    {
     "name": "stdout",
     "output_type": "stream",
     "text": [
      "Hey, this function is deprecated!\n"
     ]
    },
    {
     "data": {
      "text/plain": [
       "3"
      ]
     },
     "execution_count": 69,
     "metadata": {},
     "output_type": "execute_result"
    }
   ],
   "source": [
    "# deprecated decorator\n",
    "\n",
    "def deprecated(original_fn):\n",
    "    def replacement_function(a, b):\n",
    "        print('Hey, this function is deprecated!')\n",
    "        return original_fn(a, b)\n",
    "    \n",
    "    return replacement_function\n",
    "\n",
    "def sum(a, b):\n",
    "    return a + b\n",
    "\n",
    "sum = deprecated(sum)\n",
    "\n",
    "sum(1, 2)"
   ]
  },
  {
   "cell_type": "code",
   "execution_count": 70,
   "metadata": {
    "slideshow": {
     "slide_type": "slide"
    }
   },
   "outputs": [
    {
     "name": "stdout",
     "output_type": "stream",
     "text": [
      "Hey, this function is deprecated!\n"
     ]
    },
    {
     "data": {
      "text/plain": [
       "3"
      ]
     },
     "execution_count": 70,
     "metadata": {},
     "output_type": "execute_result"
    }
   ],
   "source": [
    "# deprecated decorator\n",
    "\n",
    "def deprecated(original_fn):\n",
    "    def replacement_function(a, b): # <-- \n",
    "        print('Hey, this function is deprecated!')\n",
    "        return original_fn(a, b)\n",
    "    \n",
    "    return replacement_function\n",
    "\n",
    "@deprecated\n",
    "def sum(a, b):\n",
    "    return a + b\n",
    "\n",
    "sum(1, 2)"
   ]
  },
  {
   "cell_type": "code",
   "execution_count": 71,
   "metadata": {
    "slideshow": {
     "slide_type": "slide"
    }
   },
   "outputs": [
    {
     "name": "stdout",
     "output_type": "stream",
     "text": [
      "Hey, this function is deprecated!\n"
     ]
    },
    {
     "data": {
      "text/plain": [
       "3"
      ]
     },
     "execution_count": 71,
     "metadata": {},
     "output_type": "execute_result"
    }
   ],
   "source": [
    "# better deprecated decorator\n",
    "\n",
    "def deprecated(original_fn):\n",
    "    def replacement_function(*args, **kwargs): # <-- \n",
    "        print('Hey, this function is deprecated!')\n",
    "        return original_fn(*args, **kwargs)\n",
    "    \n",
    "    return replacement_function\n",
    "\n",
    "@deprecated\n",
    "def sum(a, b):\n",
    "    return a + b\n",
    "\n",
    "sum(1, 2)"
   ]
  },
  {
   "cell_type": "code",
   "execution_count": 109,
   "metadata": {
    "slideshow": {
     "slide_type": "slide"
    }
   },
   "outputs": [
    {
     "name": "stdout",
     "output_type": "stream",
     "text": [
      "fib(5)\n",
      "fib(4)\n",
      "fib(3)\n",
      "fib(2)\n",
      "fib(1)\n",
      "fib(0)\n",
      "fib(1)\n",
      "fib(2)\n",
      "fib(1)\n",
      "fib(0)\n",
      "fib(3)\n",
      "fib(2)\n",
      "fib(1)\n",
      "fib(0)\n",
      "fib(1)\n",
      "5\n"
     ]
    }
   ],
   "source": [
    "# Cache Decorator\n",
    "\n",
    "# nth Fibonacci number\n",
    "def fib(n):\n",
    "    print(f'fib({n})')\n",
    "    if n < 2: return n\n",
    "    return fib(n-1) + fib(n-2)\n",
    "\n",
    "print(fib(5)) # O(2^n)"
   ]
  },
  {
   "cell_type": "code",
   "execution_count": null,
   "metadata": {},
   "outputs": [],
   "source": []
  },
  {
   "cell_type": "code",
   "execution_count": null,
   "metadata": {},
   "outputs": [],
   "source": []
  }
 ],
 "metadata": {
  "celltoolbar": "Slideshow",
  "kernelspec": {
   "display_name": "Python 3",
   "language": "python",
   "name": "python3"
  },
  "language_info": {
   "codemirror_mode": {
    "name": "ipython",
    "version": 3
   },
   "file_extension": ".py",
   "mimetype": "text/x-python",
   "name": "python",
   "nbconvert_exporter": "python",
   "pygments_lexer": "ipython3",
   "version": "3.6.4"
  }
 },
 "nbformat": 4,
 "nbformat_minor": 2
}
