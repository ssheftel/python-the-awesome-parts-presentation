{
 "cells": [
  {
   "cell_type": "markdown",
   "metadata": {
    "slideshow": {
     "slide_type": "slide"
    }
   },
   "source": [
    "# Python The Awesome Parts"
   ]
  },
  {
   "cell_type": "markdown",
   "metadata": {
    "slideshow": {
     "slide_type": "fragment"
    }
   },
   "source": [
    "## *(Why I love Python and what are some of my favorite features)*"
   ]
  },
  {
   "cell_type": "markdown",
   "metadata": {
    "slideshow": {
     "slide_type": "slide"
    }
   },
   "source": [
    "# Background\n",
    "\n",
    "- \"Python is an interpreted high-level programming language for general-purpose programming\" [(wiki)](https://en.wikipedia.org/wiki/Python_(programming_language)\n",
    "- Created by Guido van Rossum and release in 1991\n",
    "- Major companies using python include:\n",
    "    - Google (especially Youtube)\n",
    "    - Gacebook (especially Instagram)\n",
    "    - Dropbox\n",
    "- Latest major versions are Python 2.7 and 3.6"
   ]
  },
  {
   "cell_type": "markdown",
   "metadata": {
    "slideshow": {
     "slide_type": "slide"
    }
   },
   "source": [
    "# Popularity\n",
    "- Python is one of the most widely used languages\n",
    "- Python is *lingua franca* for data science, now more popular than R\n",
    "- Python is the \"fastest-growing major programming language\" according to [Stack Overflow](https://stackoverflow.blog/2017/09/06/incredible-growth-python/)\n",
    "- As of late 2017 Python is more popular than Java [Stack Overflow](https://insights.stackoverflow.com/trends?tags=python%2Cjavascript%2Cjava%2Cphp%2Cc%2B%2B&utm_source=so-owned&utm_medium=blog&utm_campaign=gen-blog&utm_content=blog-link&utm_term=incredible-growth-python)"
   ]
  },
  {
   "cell_type": "markdown",
   "metadata": {
    "slideshow": {
     "slide_type": "subslide"
    }
   },
   "source": [
    "![Alt text](./resources/percent-stack-overflow-questions-by-month.svg)\n",
    "\n",
    "Percent of Stack Overflow Questions by Month. Source: [Stack Overflow](https://goo.gl/P51YRN)"
   ]
  },
  {
   "cell_type": "markdown",
   "metadata": {
    "slideshow": {
     "slide_type": "subslide"
    }
   },
   "source": [
    "![Alt text](./resources/fastest-growing-screenshot.png)\n",
    "\n",
    "Source: [Stack Overflow](https://stackoverflow.blog/2017/09/06/incredible-growth-python/)"
   ]
  },
  {
   "cell_type": "markdown",
   "metadata": {
    "slideshow": {
     "slide_type": "subslide"
    }
   },
   "source": [
    "![Alt Text](./resources/projections-traffic.png)\n",
    "\n",
    "Source: [Stack Overflow](https://stackoverflow.blog/2017/09/06/incredible-growth-python/)"
   ]
  },
  {
   "cell_type": "markdown",
   "metadata": {
    "slideshow": {
     "slide_type": "slide"
    }
   },
   "source": [
    "# Place Holder - Why it should be considered for use"
   ]
  },
  {
   "cell_type": "markdown",
   "metadata": {
    "slideshow": {
     "slide_type": "slide"
    }
   },
   "source": [
    "# *\"Sam, Arnt you a little bias towards using python? Why should we listen to you?\"*"
   ]
  },
  {
   "cell_type": "markdown",
   "metadata": {
    "slideshow": {
     "slide_type": "fragment"
    }
   },
   "source": [
    "## Yes, in fact I am."
   ]
  },
  {
   "cell_type": "code",
   "execution_count": null,
   "metadata": {},
   "outputs": [],
   "source": []
  }
 ],
 "metadata": {
  "celltoolbar": "Slideshow",
  "kernelspec": {
   "display_name": "Python 3",
   "language": "python",
   "name": "python3"
  },
  "language_info": {
   "codemirror_mode": {
    "name": "ipython",
    "version": 3
   },
   "file_extension": ".py",
   "mimetype": "text/x-python",
   "name": "python",
   "nbconvert_exporter": "python",
   "pygments_lexer": "ipython3",
   "version": "3.6.4"
  }
 },
 "nbformat": 4,
 "nbformat_minor": 2
}
