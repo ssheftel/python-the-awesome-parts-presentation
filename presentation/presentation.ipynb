{
 "cells": [
  {
   "cell_type": "markdown",
   "metadata": {
    "slideshow": {
     "slide_type": "slide"
    }
   },
   "source": [
    "# Python The Awesome Parts"
   ]
  },
  {
   "cell_type": "markdown",
   "metadata": {
    "slideshow": {
     "slide_type": "fragment"
    }
   },
   "source": [
    "## *(Why I love Python and what are some of my favorite features)*"
   ]
  },
  {
   "cell_type": "markdown",
   "metadata": {
    "slideshow": {
     "slide_type": "slide"
    }
   },
   "source": [
    "# Background\n",
    "\n",
    "- \"Python is an interpreted high-level programming language for general-purpose programming\" [(wiki)](https://en.wikipedia.org/wiki/Python_(programming_language)\n",
    "- Created by Guido van Rossum and release in 1991\n",
    "- Major companies using python include:\n",
    "    - Google (especially Youtube)\n",
    "    - Facebook (especially Instagram)\n",
    "    - Dropbox - \"We use Python everywhere. 99.99% of the code at Dropbox is in Python ... People talk to each other in Python, express ideas in Python ... and it works.\"\n",
    "- Latest major versions are Python 2.7 and 3.6"
   ]
  },
  {
   "cell_type": "markdown",
   "metadata": {
    "slideshow": {
     "slide_type": "slide"
    }
   },
   "source": [
    "# Popularity\n",
    "- Python is one of the most widely used languages\n",
    "- Python is *lingua franca* for data science, now more popular than R\n",
    "- Python is the \"fastest-growing major programming language\" according to [Stack Overflow](https://stackoverflow.blog/2017/09/06/incredible-growth-python/)\n",
    "- As of late 2017 Python is more popular than Java [Stack Overflow](https://insights.stackoverflow.com/trends?tags=python%2Cjavascript%2Cjava%2Cphp%2Cc%2B%2B&utm_source=so-owned&utm_medium=blog&utm_campaign=gen-blog&utm_content=blog-link&utm_term=incredible-growth-python)"
   ]
  },
  {
   "cell_type": "markdown",
   "metadata": {
    "slideshow": {
     "slide_type": "subslide"
    }
   },
   "source": [
    "![Alt text](./resources/percent-stack-overflow-questions-by-month.svg)\n",
    "\n",
    "Percent of Stack Overflow Questions by Month. Source: [Stack Overflow](https://goo.gl/P51YRN)"
   ]
  },
  {
   "cell_type": "markdown",
   "metadata": {
    "slideshow": {
     "slide_type": "subslide"
    }
   },
   "source": [
    "![Alt text](./resources/fastest-growing-screenshot.png)\n",
    "\n",
    "Source: [Stack Overflow](https://stackoverflow.blog/2017/09/06/incredible-growth-python/)"
   ]
  },
  {
   "cell_type": "markdown",
   "metadata": {
    "slideshow": {
     "slide_type": "subslide"
    }
   },
   "source": [
    "![Alt Text](./resources/projections-traffic.png)\n",
    "\n",
    "Source: [Stack Overflow](https://stackoverflow.blog/2017/09/06/incredible-growth-python/)"
   ]
  },
  {
   "cell_type": "markdown",
   "metadata": {
    "slideshow": {
     "slide_type": "slide"
    }
   },
   "source": [
    "# Why it should be considered for use\n",
    "\n",
    "- Synergy: We are a data science company and our data scientist large use python.\n",
    "- Move faster: Faster development and deeper prototyping."
   ]
  },
  {
   "cell_type": "markdown",
   "metadata": {
    "slideshow": {
     "slide_type": "slide"
    }
   },
   "source": [
    "# Python a Superior Tool\n",
    "\n",
    "- Notebooks: Jupyter, Rodeo IDE, Zeppelin, Beaker (this presentation)\n",
    "- PyCharm\n",
    "- Web Frameworks: Flask and Django\n",
    "- PySpark\n",
    "- Cython, PyPy, Jython, IronPython\n",
    "- Pandas, NumPy, Numba\n",
    "- The standard library"
   ]
  },
  {
   "cell_type": "markdown",
   "metadata": {
    "slideshow": {
     "slide_type": "slide"
    }
   },
   "source": [
    "# The Zen of Python by Tim Peters"
   ]
  },
  {
   "cell_type": "code",
   "execution_count": 4,
   "metadata": {
    "slideshow": {
     "slide_type": "fragment"
    }
   },
   "outputs": [
    {
     "name": "stdout",
     "output_type": "stream",
     "text": [
      "The Zen of Python, by Tim Peters\n",
      "\n",
      "Beautiful is better than ugly.\n",
      "Explicit is better than implicit.\n",
      "Simple is better than complex.\n",
      "Complex is better than complicated.\n",
      "Flat is better than nested.\n",
      "Sparse is better than dense.\n",
      "Readability counts.\n",
      "Special cases aren't special enough to break the rules.\n",
      "Although practicality beats purity.\n",
      "Errors should never pass silently.\n",
      "Unless explicitly silenced.\n",
      "In the face of ambiguity, refuse the temptation to guess.\n",
      "There should be one-- and preferably only one --obvious way to do it.\n",
      "Although that way may not be obvious at first unless you're Dutch.\n",
      "Now is better than never.\n",
      "Although never is often better than *right* now.\n",
      "If the implementation is hard to explain, it's a bad idea.\n",
      "If the implementation is easy to explain, it may be a good idea.\n",
      "Namespaces are one honking great idea -- let's do more of those!\n"
     ]
    }
   ],
   "source": [
    "import this"
   ]
  },
  {
   "cell_type": "markdown",
   "metadata": {
    "slideshow": {
     "slide_type": "slide"
    }
   },
   "source": [
    "The Zen of Python, by Tim Peters\n",
    "\n",
    "- Beautiful is better than ugly.\n",
    "- Explicit is better than implicit.\n",
    "- Simple is better than complex.\n",
    "- Complex is better than complicated.\n",
    "- Flat is better than nested.\n",
    "= Sparse is better than dense.\n",
    "- Readability counts.\n",
    "- Special cases aren't special enough to break the rules.\n",
    "- Although practicality beats purity.\n",
    "- Errors should never pass silently.\n",
    "- Unless explicitly silenced.\n",
    "- In the face of ambiguity, refuse the temptation to guess.\n",
    "- There should be one-- and preferably only one --obvious way to do it.\n",
    "- Although that way may not be obvious at first unless you're Dutch.\n",
    "- Now is better than never.\n",
    "- Although never is often better than *right* now.\n",
    "- If the implementation is hard to explain, it's a bad idea.\n",
    "- If the implementation is easy to explain, it may be a good idea.\n",
    "- Namespaces are one honking great idea -- let's do more of those!"
   ]
  },
  {
   "cell_type": "markdown",
   "metadata": {
    "slideshow": {
     "slide_type": "slide"
    }
   },
   "source": [
    "# Readability counts\n",
    "\n",
    "> \"Readability is the ease with which a reader can understand a written text.\" (Wikipedia)\n",
    "\n",
    "- Code is read more often than it is written\n",
    "- Dropbox found that their engineers spend about 40% of our day reading code and trying to understand it"
   ]
  },
  {
   "cell_type": "markdown",
   "metadata": {
    "slideshow": {
     "slide_type": "slide"
    }
   },
   "source": [
    "# Simple is better than complex."
   ]
  },
  {
   "cell_type": "markdown",
   "metadata": {
    "slideshow": {
     "slide_type": "slide"
    }
   },
   "source": [
    "# Practicality beats purity.\n",
    "\n",
    "> Guido’s sense of the aesthetics of language design is amazing. I’ve met many fine language designers who could build theoretically beautiful languages that no one would ever use, but Guido is one of those rare people who can build a language that is just slightly less theoretically beautiful but thereby is a joy to write programs in. — Jim Hugunin cocreator of AspectJ,"
   ]
  },
  {
   "cell_type": "markdown",
   "metadata": {
    "slideshow": {
     "slide_type": "slide"
    }
   },
   "source": [
    "# There should be one-- and preferably only one --obvious way to do it.\n",
    "\n",
    "> Python is an experiment in how much freedom programmers need. Too much freedom and nobody can read another's code; too little and expressiveness is endangered. (Guido van Rossum)\n",
    "\n",
    "> One of the best qualities of Python is its consistency. After working with Python for a while, you are able to start making informed, correct guesses about features that are new to you. (Ramalho, Luciano. Fluent Python)"
   ]
  },
  {
   "cell_type": "markdown",
   "metadata": {
    "slideshow": {
     "slide_type": "slide"
    }
   },
   "source": [
    "# Explicit is better than implicit."
   ]
  },
  {
   "cell_type": "markdown",
   "metadata": {
    "slideshow": {
     "slide_type": "slide"
    }
   },
   "source": [
    "# If the implementation is hard to explain, it's a bad idea."
   ]
  },
  {
   "cell_type": "markdown",
   "metadata": {
    "slideshow": {
     "slide_type": "slide"
    }
   },
   "source": [
    "# The Awesome Parts"
   ]
  },
  {
   "cell_type": "markdown",
   "metadata": {},
   "source": [
    "# Comprehension\n",
    "\n",
    "A (better) way of building collection"
   ]
  },
  {
   "cell_type": "code",
   "execution_count": 16,
   "metadata": {},
   "outputs": [],
   "source": [
    "# some of the common collection types\n",
    "l = ['a', 'b', 'c', 'd'] #  list - ordered, mutable, array based\n",
    "t = ('a', 'b', 'c', 'd') # tuple - ordered, immuntable\n",
    "s = {'a', 'b', 'c', 'd'} # set - unorder, mutable, hash based\n",
    "d = {'a': 97, 'b':98, 'c': 99, 'd':100} # dict - unorder, mutable, key -> value, hash based"
   ]
  },
  {
   "cell_type": "code",
   "execution_count": 5,
   "metadata": {
    "slideshow": {
     "slide_type": "slide"
    }
   },
   "outputs": [],
   "source": [
    "letters = ['a', 'b', 'c', 'd'] # list\n",
    "# lets get the ascii value of each letter"
   ]
  },
  {
   "cell_type": "code",
   "execution_count": 6,
   "metadata": {
    "slideshow": {
     "slide_type": "fragment"
    }
   },
   "outputs": [
    {
     "data": {
      "text/plain": [
       "[97, 98, 99, 100]"
      ]
     },
     "execution_count": 6,
     "metadata": {},
     "output_type": "execute_result"
    }
   ],
   "source": [
    "[ord(letter) for letter in letters]"
   ]
  },
  {
   "cell_type": "code",
   "execution_count": null,
   "metadata": {
    "slideshow": {
     "slide_type": "slide"
    }
   },
   "outputs": [],
   "source": [
    "letters = ['a', 'b', 'c', 'd'] # list\n",
    "# only odd ascii value\n",
    "# letters.filter(l -> ord(l)%2).map(l -> ord(l))"
   ]
  },
  {
   "cell_type": "code",
   "execution_count": 8,
   "metadata": {
    "slideshow": {
     "slide_type": "fragment"
    }
   },
   "outputs": [
    {
     "data": {
      "text/plain": [
       "[97, 99]"
      ]
     },
     "execution_count": 8,
     "metadata": {},
     "output_type": "execute_result"
    }
   ],
   "source": [
    "[ord(letter) for letter in letters if ord(letter) % 2]"
   ]
  },
  {
   "cell_type": "markdown",
   "metadata": {
    "slideshow": {
     "slide_type": "slide"
    }
   },
   "source": [
    "## Dictionary Comprehension\n",
    "\n",
    "- building a dictionary instance by producing `key:value` pairs from an iterable"
   ]
  },
  {
   "cell_type": "code",
   "execution_count": 21,
   "metadata": {
    "slideshow": {
     "slide_type": "slide"
    }
   },
   "outputs": [],
   "source": [
    "letters = ['a', 'b', 'c', 'd'] # list\n",
    "# mapping between letter and ascii letters"
   ]
  },
  {
   "cell_type": "code",
   "execution_count": 10,
   "metadata": {
    "slideshow": {
     "slide_type": "fragment"
    }
   },
   "outputs": [
    {
     "data": {
      "text/plain": [
       "{'a': 97, 'b': 98, 'c': 99, 'd': 100}"
      ]
     },
     "execution_count": 10,
     "metadata": {},
     "output_type": "execute_result"
    }
   ],
   "source": [
    "{letter:ord(letter) for letter in letters}"
   ]
  },
  {
   "cell_type": "code",
   "execution_count": 23,
   "metadata": {
    "slideshow": {
     "slide_type": "fragment"
    }
   },
   "outputs": [
    {
     "data": {
      "text/plain": [
       "{'a': 97, 'c': 99}"
      ]
     },
     "execution_count": 23,
     "metadata": {},
     "output_type": "execute_result"
    }
   ],
   "source": [
    "{letter:ord(letter) for letter in letters if ord(letter) % 2}"
   ]
  },
  {
   "cell_type": "markdown",
   "metadata": {
    "slideshow": {
     "slide_type": "slide"
    }
   },
   "source": [
    "## Set Comprehension"
   ]
  },
  {
   "cell_type": "code",
   "execution_count": 11,
   "metadata": {
    "slideshow": {
     "slide_type": "slide"
    }
   },
   "outputs": [
    {
     "data": {
      "text/plain": [
       "[97, 98, 99, 100, 97, 100]"
      ]
     },
     "execution_count": 11,
     "metadata": {},
     "output_type": "execute_result"
    }
   ],
   "source": [
    "letters = ['a', 'b', 'c', 'd', 'a', 'd']\n",
    "[ord(letter) for letter in letters]"
   ]
  },
  {
   "cell_type": "code",
   "execution_count": 12,
   "metadata": {
    "slideshow": {
     "slide_type": "fragment"
    }
   },
   "outputs": [
    {
     "data": {
      "text/plain": [
       "{97, 98, 99, 100}"
      ]
     },
     "execution_count": 12,
     "metadata": {},
     "output_type": "execute_result"
    }
   ],
   "source": [
    "{ord(letter) for letter in letters}"
   ]
  },
  {
   "cell_type": "code",
   "execution_count": 13,
   "metadata": {
    "slideshow": {
     "slide_type": "slide"
    }
   },
   "outputs": [
    {
     "name": "stdout",
     "output_type": "stream",
     "text": [
      "['A♠️', 'A♣️', 'A♥️', 'A♦️', '2♠️', '2♣️', '2♥️', '2♦️', '3♠️', '3♣️', '3♥️', '3♦️', '4♠️', '4♣️', '4♥️', '4♦️', '5♠️', '5♣️', '5♥️', '5♦️', '6♠️', '6♣️', '6♥️', '6♦️', '7♠️', '7♣️', '7♥️', '7♦️', '8♠️', '8♣️', '8♥️', '8♦️', '9♠️', '9♣️', '9♥️', '9♦️', '10♠️', '10♣️', '10♥️', '10♦️', 'J♠️', 'J♣️', 'J♥️', 'J♦️', 'Q♠️', 'Q♣️', 'Q♥️', 'Q♦️', 'K♠️', 'K♣️', 'K♥️', 'K♦️']\n"
     ]
    }
   ],
   "source": [
    "suits = ['♠️', '♣️', '♥️', '♦️']\n",
    "ranks = ['A', '2', '3', '4', '5', '6', '7', '8', '9', '10', 'J', 'Q', 'K']\n",
    "deck = [f'{rank}{suit}' for rank in ranks for suit in suits]\n",
    "print(deck)"
   ]
  },
  {
   "cell_type": "code",
   "execution_count": 14,
   "metadata": {
    "slideshow": {
     "slide_type": "slide"
    }
   },
   "outputs": [
    {
     "name": "stdout",
     "output_type": "stream",
     "text": [
      "{'♠️': ['A♠️', '2♠️', '3♠️', '4♠️', '5♠️', '6♠️', '7♠️', '8♠️', '9♠️', '10♠️', 'J♠️', 'Q♠️', 'K♠️'], '♣️': ['A♣️', '2♣️', '3♣️', '4♣️', '5♣️', '6♣️', '7♣️', '8♣️', '9♣️', '10♣️', 'J♣️', 'Q♣️', 'K♣️'], '♥️': ['A♥️', '2♥️', '3♥️', '4♥️', '5♥️', '6♥️', '7♥️', '8♥️', '9♥️', '10♥️', 'J♥️', 'Q♥️', 'K♥️'], '♦️': ['A♦️', '2♦️', '3♦️', '4♦️', '5♦️', '6♦️', '7♦️', '8♦️', '9♦️', '10♦️', 'J♦️', 'Q♦️', 'K♦️']}\n",
      "['A♣️', '2♣️', '3♣️', '4♣️', '5♣️', '6♣️', '7♣️', '8♣️', '9♣️', '10♣️', 'J♣️', 'Q♣️', 'K♣️']\n",
      "['A♦️', '2♦️', '3♦️', '4♦️', '5♦️', '6♦️', '7♦️', '8♦️', '9♦️', '10♦️', 'J♦️', 'Q♦️', 'K♦️']\n"
     ]
    }
   ],
   "source": [
    "suits = ['♠️', '♣️', '♥️', '♦️']\n",
    "ranks = ['A', '2', '3', '4', '5', '6', '7', '8', '9', '10', 'J', 'Q', 'K']\n",
    "\n",
    "deck = {suit:[f'{rank}{suit}' for rank in ranks] for suit in suits} # composable\n",
    "\n",
    "print(deck['♣️'])\n",
    "print(deck['♦️'])"
   ]
  },
  {
   "cell_type": "markdown",
   "metadata": {
    "slideshow": {
     "slide_type": "slide"
    }
   },
   "source": [
    "# Unpacking and *args"
   ]
  },
  {
   "cell_type": "code",
   "execution_count": 18,
   "metadata": {
    "slideshow": {
     "slide_type": "slide"
    }
   },
   "outputs": [],
   "source": [
    "first, second, third, forth = ['a', 'b', 'c', 'd']\n",
    "\n"
   ]
  },
  {
   "cell_type": "code",
   "execution_count": 21,
   "metadata": {
    "slideshow": {
     "slide_type": "slide"
    }
   },
   "outputs": [
    {
     "name": "stdout",
     "output_type": "stream",
     "text": [
      "['b', 'c', 'd']\n",
      "e\n"
     ]
    }
   ],
   "source": [
    "first, *middle, last = ['a', 'b', 'c', 'd', 'e']\n",
    "print(middle)\n",
    "print(last)"
   ]
  },
  {
   "cell_type": "code",
   "execution_count": 22,
   "metadata": {
    "slideshow": {
     "slide_type": "slide"
    }
   },
   "outputs": [
    {
     "name": "stdout",
     "output_type": "stream",
     "text": [
      "['a', 'b', 'c', 'd', 'e', 'f', 'g']\n"
     ]
    }
   ],
   "source": [
    "# * is used to unpack collections\n",
    "list_one = ['a', 'b', 'c']\n",
    "list_two = ['d', 'e', 'f']\n",
    "\n",
    "a_list = [\n",
    "    *list_one,\n",
    "    *list_two,\n",
    "    'g'\n",
    "]\n",
    "print(a_list)"
   ]
  },
  {
   "cell_type": "code",
   "execution_count": 23,
   "metadata": {
    "slideshow": {
     "slide_type": "slide"
    }
   },
   "outputs": [
    {
     "name": "stdout",
     "output_type": "stream",
     "text": [
      "{'a': 97, 'b': 98, 'c': 99, 'd': 100, 'e': 101, 'f': 102, 'g': 103}\n"
     ]
    }
   ],
   "source": [
    "# ** is used to unpack dictionaries\n",
    "dict_one = {'a': 97, 'b': 98, 'c': 99}\n",
    "dict_two = {'d': 100, 'e': 101, 'f': 102}\n",
    "a_dict = {\n",
    "    **dict_one,\n",
    "    **dict_two,\n",
    "    'g': 103,\n",
    "}\n",
    "print(a_dict)"
   ]
  },
  {
   "cell_type": "code",
   "execution_count": 25,
   "metadata": {
    "slideshow": {
     "slide_type": "slide"
    }
   },
   "outputs": [
    {
     "data": {
      "text/plain": [
       "'a'"
      ]
     },
     "execution_count": 25,
     "metadata": {},
     "output_type": "execute_result"
    }
   ],
   "source": [
    "# * and ** also work in function invocation\n",
    "def fn(param1, param2, param3):\n",
    "    return param1\n",
    "\n",
    "list_one = ['a', 'b', 'c']\n",
    "fn(*list_one) #"
   ]
  },
  {
   "cell_type": "code",
   "execution_count": 26,
   "metadata": {
    "slideshow": {
     "slide_type": "slide"
    }
   },
   "outputs": [
    {
     "data": {
      "text/plain": [
       "20"
      ]
     },
     "execution_count": 26,
     "metadata": {},
     "output_type": "execute_result"
    }
   ],
   "source": [
    "def fn(*, width, hight): # keyword only arguments\n",
    "    return width * hight\n",
    "\n",
    "dict_one = {'width': 10, 'hight': 2}\n",
    "fn(**dict_one)"
   ]
  },
  {
   "cell_type": "markdown",
   "metadata": {
    "slideshow": {
     "slide_type": "slide"
    }
   },
   "source": [
    "## Argument packing in function definitions with `*args` and `**kwargs`\n",
    "\n",
    "- in a function, param list `*` and `**` implies the opposite. Argument packing"
   ]
  },
  {
   "cell_type": "code",
   "execution_count": 27,
   "metadata": {},
   "outputs": [
    {
     "name": "stdout",
     "output_type": "stream",
     "text": [
      "sam\n",
      "('python', 'javascript', 'java')\n",
      "{'location': 'chicago', 'phone': '1234567890'}\n"
     ]
    }
   ],
   "source": [
    "def fn(param1, *args, **kwargs):\n",
    "    print(param1)\n",
    "    print(args)\n",
    "    print(kwargs)\n",
    "    \n",
    "fn('sam', 'python', 'javascript', 'java', location='chicago', phone='1234567890')"
   ]
  },
  {
   "cell_type": "markdown",
   "metadata": {
    "slideshow": {
     "slide_type": "slide"
    }
   },
   "source": [
    "# Generators"
   ]
  },
  {
   "cell_type": "markdown",
   "metadata": {
    "slideshow": {
     "slide_type": "fragment"
    }
   },
   "source": [
    "- iterable: An object capable of returning its members one at a time\n",
    "- iterator: An object representing a stream of data. Repeated calls to the iterator’s `__next__()` method return successive items in the stream.\n",
    "- generator: A function which returns a generator iterator. It looks like a normal function except that it contains  `yield` expressions for producing a series of values usable in a for-loop or that can be retrieved one at a time with the `next()` function."
   ]
  },
  {
   "cell_type": "code",
   "execution_count": 48,
   "metadata": {
    "slideshow": {
     "slide_type": "slide"
    }
   },
   "outputs": [],
   "source": [
    "def squares(start, stop):\n",
    "    return [i * i for i in range(start, stop)]\n",
    "\n",
    "def squares_generator(start, stop):\n",
    "    for i in range(start, stop):\n",
    "        yield i * i"
   ]
  },
  {
   "cell_type": "code",
   "execution_count": 52,
   "metadata": {
    "slideshow": {
     "slide_type": "slide"
    }
   },
   "outputs": [],
   "source": [
    "g = squares_generator(0, 10)\n",
    "g.send(None)\n",
    "g.send('sam')\n",
    "next(g)\n",
    "next(g)"
   ]
  },
  {
   "cell_type": "markdown",
   "metadata": {},
   "source": [
    "# Decorator\n",
    "\n",
    "> \"The decorator conforms to the interface of the component it decorates so that its presence is transparent to the component’s clients. The decorator forwards requests to the component and may perform additional actions (such as drawing a border) before or after forwarding. Transparency lets you nest decorators recursively, thereby allowing an unlimited number of added responsibilities.\" (GoF Book)\n"
   ]
  },
  {
   "cell_type": "markdown",
   "metadata": {
    "slideshow": {
     "slide_type": "slide"
    }
   },
   "source": [
    "# Decorators\n",
    "\n",
    "```python\n",
    "@log                    # <-- decorators\n",
    "def cost(price, count):\n",
    "    return price * count\n",
    "```"
   ]
  },
  {
   "cell_type": "markdown",
   "metadata": {
    "slideshow": {
     "slide_type": "fragment"
    }
   },
   "source": [
    "- syntax: `@` on line(s) before a function or class definition\n",
    "- used to modification or injection of code into a function or class:\n",
    "    - add enter/exit logic\n",
    "    - modify arguments\n",
    "    - call logging/tracing\n",
    "    - customize/tweak\n",
    "\n",
    "- Using decorator can promote clean separation of concerns"
   ]
  },
  {
   "cell_type": "markdown",
   "metadata": {
    "slideshow": {
     "slide_type": "slide"
    }
   },
   "source": [
    "# Decorators ≠ Annotations or AOP\n",
    "\n",
    "- Python Decorators:\n",
    "    - simply functions, typically take a function as an argument and return function\n",
    "    - run at import/definition time - that is when a module is loaded by Python\n",
    "    - only functions and classes can be decorated\n",
    "- Java Annotations:\n",
    "    - are metadata which have no effect without a AOP container\n",
    "    - can be attached classes, methods, fields, parameters, or variables"
   ]
  },
  {
   "cell_type": "markdown",
   "metadata": {
    "slideshow": {
     "slide_type": "slide"
    }
   },
   "source": [
    "# Decorators > Annotations\n",
    "\n",
    "> \"[Decorators] Sounds a bit like Aspect-Oriented Programming (AOP) in Java, doesn't it? Except that it's both much simpler and (as a result) much more powerful\" - Bruce Eckel"
   ]
  },
  {
   "cell_type": "code",
   "execution_count": 53,
   "metadata": {
    "slideshow": {
     "slide_type": "slide"
    }
   },
   "outputs": [
    {
     "data": {
      "text/plain": [
       "3"
      ]
     },
     "execution_count": 53,
     "metadata": {},
     "output_type": "execute_result"
    }
   ],
   "source": [
    "def null_decorator(fn):\n",
    "    return fn\n",
    "\n",
    "@null_decorator\n",
    "def sum(a, b):\n",
    "    return a + b\n",
    "\n",
    "\n",
    "sum(1, 2)"
   ]
  },
  {
   "cell_type": "code",
   "execution_count": null,
   "metadata": {
    "slideshow": {
     "slide_type": "slide"
    }
   },
   "outputs": [],
   "source": [
    "@null_decorator\n",
    "def sum(a, b):\n",
    "    return a + b"
   ]
  },
  {
   "cell_type": "code",
   "execution_count": 67,
   "metadata": {
    "slideshow": {
     "slide_type": "fragment"
    }
   },
   "outputs": [],
   "source": [
    "# is equivlent to\n",
    "\n",
    "def sum(a, b):\n",
    "    return a + b\n",
    "sum = null_decorator(sum)"
   ]
  },
  {
   "cell_type": "markdown",
   "metadata": {
    "slideshow": {
     "slide_type": "fragment"
    }
   },
   "source": [
    "1. define the original function and bind it to its name\n",
    "2. call the decorator with the function as an argument and then\n",
    "3. rebind the original functions name to the value returned by #2"
   ]
  },
  {
   "cell_type": "code",
   "execution_count": 55,
   "metadata": {
    "slideshow": {
     "slide_type": "slide"
    }
   },
   "outputs": [
    {
     "name": "stdout",
     "output_type": "stream",
     "text": [
      "Hey, this function is deprecated!\n"
     ]
    },
    {
     "data": {
      "text/plain": [
       "6"
      ]
     },
     "execution_count": 55,
     "metadata": {},
     "output_type": "execute_result"
    }
   ],
   "source": [
    "# deprecated decorator\n",
    "\n",
    "def deprecated(original_fn):\n",
    "    def replacement_function(a, b):\n",
    "        print('Hey, this function is deprecated!')\n",
    "        return original_fn(a, b)\n",
    "    \n",
    "    return replacement_function\n",
    "\n",
    "def sum(a, b):\n",
    "    return a + b\n",
    "\n",
    "sum = deprecated(sum)\n",
    "\n",
    "sum(1, 5)"
   ]
  },
  {
   "cell_type": "code",
   "execution_count": 70,
   "metadata": {
    "slideshow": {
     "slide_type": "slide"
    }
   },
   "outputs": [
    {
     "name": "stdout",
     "output_type": "stream",
     "text": [
      "Hey, this function is deprecated!\n"
     ]
    },
    {
     "data": {
      "text/plain": [
       "3"
      ]
     },
     "execution_count": 70,
     "metadata": {},
     "output_type": "execute_result"
    }
   ],
   "source": [
    "# deprecated decorator\n",
    "\n",
    "def deprecated(original_fn):\n",
    "    def replacement_function(a, b): # <-- \n",
    "        print('Hey, this function is deprecated!')\n",
    "        return original_fn(a, b)\n",
    "    \n",
    "    return replacement_function\n",
    "\n",
    "@deprecated\n",
    "def sum(a, b):\n",
    "    return a + b\n",
    "\n",
    "sum(1, 2)"
   ]
  },
  {
   "cell_type": "code",
   "execution_count": 71,
   "metadata": {
    "slideshow": {
     "slide_type": "slide"
    }
   },
   "outputs": [
    {
     "name": "stdout",
     "output_type": "stream",
     "text": [
      "Hey, this function is deprecated!\n"
     ]
    },
    {
     "data": {
      "text/plain": [
       "3"
      ]
     },
     "execution_count": 71,
     "metadata": {},
     "output_type": "execute_result"
    }
   ],
   "source": [
    "# better deprecated decorator\n",
    "\n",
    "def deprecated(original_fn):\n",
    "    def replacement_function(*args, **kwargs): # <-- \n",
    "        print('Hey, this function is deprecated!')\n",
    "        return original_fn(*args, **kwargs)\n",
    "    \n",
    "    return replacement_function\n",
    "\n",
    "@deprecated\n",
    "def sum(a, b):\n",
    "    return a + b\n",
    "\n",
    "sum(1, 2)"
   ]
  },
  {
   "cell_type": "code",
   "execution_count": 57,
   "metadata": {
    "slideshow": {
     "slide_type": "slide"
    }
   },
   "outputs": [
    {
     "name": "stdout",
     "output_type": "stream",
     "text": [
      "fib(5)\n",
      "fib(4)\n",
      "fib(3)\n",
      "fib(2)\n",
      "fib(1)\n",
      "fib(0)\n",
      "fib(1)\n",
      "fib(2)\n",
      "fib(1)\n",
      "fib(0)\n",
      "fib(3)\n",
      "fib(2)\n",
      "fib(1)\n",
      "fib(0)\n",
      "fib(1)\n",
      "5\n"
     ]
    }
   ],
   "source": [
    "# nth Fibonacci number\n",
    "def fib(n):\n",
    "    print(f'fib({n})')\n",
    "    if n < 2: return n\n",
    "    return fib(n-1) + fib(n-2)\n",
    "\n",
    "print(fib(5)) # O(2^n)\n",
    "# how could we make this better?"
   ]
  },
  {
   "cell_type": "code",
   "execution_count": 63,
   "metadata": {
    "slideshow": {
     "slide_type": "slide"
    }
   },
   "outputs": [
    {
     "name": "stdout",
     "output_type": "stream",
     "text": [
      "fib(5)\n",
      "fib(4)\n",
      "fib(3)\n",
      "fib(2)\n",
      "fib(1)\n",
      "fib(0)\n"
     ]
    },
    {
     "data": {
      "text/plain": [
       "5"
      ]
     },
     "execution_count": 63,
     "metadata": {},
     "output_type": "execute_result"
    }
   ],
   "source": [
    "# Cache Decorator - also see functools.lru_cache\n",
    "\n",
    "def memoize(fn):\n",
    "    cache = {}\n",
    "    def new_fn(*args):\n",
    "        if args in cache: return cache[args]\n",
    "        result = fn(*args)\n",
    "        cache[args] = result\n",
    "        return result\n",
    "    return new_fn\n",
    "\n",
    "@memoize\n",
    "def fib(n):\n",
    "    print(f'fib({n})')\n",
    "    if n < 2: return n\n",
    "    return fib(n-1) + fib(n-2)\n",
    "\n",
    "fib(5)"
   ]
  },
  {
   "cell_type": "code",
   "execution_count": null,
   "metadata": {
    "slideshow": {
     "slide_type": "slide"
    }
   },
   "outputs": [],
   "source": [
    "# timer decorator\n",
    "\n",
    "from time import time\n",
    "\n",
    "def timer(fn):\n",
    "    # TODO: implement time()\n",
    "    return fn\n",
    "\n",
    "@memoize\n",
    "@timer\n",
    "def fib(n):\n",
    "    print(f'fib({n})')\n",
    "    if n < 2: return n\n",
    "    return fib(n-1) + fib(n-2)\n",
    "fib(5)"
   ]
  },
  {
   "cell_type": "code",
   "execution_count": 39,
   "metadata": {
    "slideshow": {
     "slide_type": "slide"
    }
   },
   "outputs": [],
   "source": [
    "# decorator that takes arguments\n",
    "\n",
    "def memoize(log_calls=True):\n",
    "    # TODO: implement time()\n",
    "    def decorator(fn):\n",
    "        \n",
    "        def new_fn(*args):\n",
    "            return fn\n",
    "        \n",
    "        return new_fn\n",
    "    \n",
    "    return decorator"
   ]
  },
  {
   "cell_type": "markdown",
   "metadata": {
    "slideshow": {
     "slide_type": "slide"
    }
   },
   "source": [
    "# The Python Data Model\n",
    "\n",
    "- The data model is the APIs that python objects can implement to plug into features of the language.\n",
    "- Basic operations in the language are translated by the interpreter into calls to the data model API\n",
    "- Magic methods begin and end with double underscore (`__`), they are often called \"dunder\" methods or magic methods and they are inteded to be called by the interpreter.\n",
    "- Magic methods will allow your objects to behave like builtin types ⇒ more expressive and pythonic objects.\n",
    "\n",
    "- Magic methods are actuly not magic at all - they provide \n",
    "\n",
    "> \"[Magic methods] empower their users with a rich metaobject protocol that is not magic, but enables users to leverage the same tools available to core developers.\" (Ramalho, Luciano. Fluent Python)"
   ]
  },
  {
   "cell_type": "code",
   "execution_count": 43,
   "metadata": {
    "slideshow": {
     "slide_type": "fragment"
    }
   },
   "outputs": [
    {
     "data": {
      "text/plain": [
       "True"
      ]
     },
     "execution_count": 43,
     "metadata": {},
     "output_type": "execute_result"
    }
   ],
   "source": [
    "d = {'a_key': 'a_value'}\n",
    "\n",
    "'a_key' in d\n",
    "# is the same as\n",
    "d.__contains__('a_key')"
   ]
  },
  {
   "cell_type": "markdown",
   "metadata": {
    "slideshow": {
     "slide_type": "slide"
    }
   },
   "source": [
    "# Magic methods allow you to customize your objects for such things as:\n",
    "\n",
    "- Iteration\n",
    "- Collection Operation\n",
    "- Attribute access\n",
    "- Method overloading and invocation\n",
    "- Object creation\n",
    "- String representation and formatting\n",
    "- Enter/exit logic `with`\n",
    "- Async and async Iteration behavior\n",
    "- Hashing and identity\n",
    "\n"
   ]
  },
  {
   "cell_type": "code",
   "execution_count": 66,
   "metadata": {
    "slideshow": {
     "slide_type": "slide"
    }
   },
   "outputs": [
    {
     "data": {
      "text/html": [
       "<div>\n",
       "<style scoped>\n",
       "    .dataframe tbody tr th:only-of-type {\n",
       "        vertical-align: middle;\n",
       "    }\n",
       "\n",
       "    .dataframe tbody tr th {\n",
       "        vertical-align: top;\n",
       "    }\n",
       "\n",
       "    .dataframe thead th {\n",
       "        text-align: right;\n",
       "    }\n",
       "</style>\n",
       "<table border=\"1\" class=\"dataframe\">\n",
       "  <thead>\n",
       "    <tr style=\"text-align: right;\">\n",
       "      <th></th>\n",
       "      <th>car</th>\n",
       "      <th>user</th>\n",
       "    </tr>\n",
       "  </thead>\n",
       "  <tbody>\n",
       "    <tr>\n",
       "      <th>0</th>\n",
       "      <td>Nissan LEAF</td>\n",
       "      <td>Sam</td>\n",
       "    </tr>\n",
       "    <tr>\n",
       "      <th>1</th>\n",
       "      <td>Volkswagen Golf</td>\n",
       "      <td>Bob</td>\n",
       "    </tr>\n",
       "    <tr>\n",
       "      <th>2</th>\n",
       "      <td>Mazda3</td>\n",
       "      <td>Joe</td>\n",
       "    </tr>\n",
       "    <tr>\n",
       "      <th>3</th>\n",
       "      <td>GMC Sierra</td>\n",
       "      <td>Mike</td>\n",
       "    </tr>\n",
       "  </tbody>\n",
       "</table>\n",
       "</div>"
      ],
      "text/plain": [
       "               car  user\n",
       "0      Nissan LEAF   Sam\n",
       "1  Volkswagen Golf   Bob\n",
       "2           Mazda3   Joe\n",
       "3       GMC Sierra  Mike"
      ]
     },
     "execution_count": 66,
     "metadata": {},
     "output_type": "execute_result"
    }
   ],
   "source": [
    "# example in pandas\n",
    "import pandas as pd\n",
    "df = pd.DataFrame({'user': ['Sam', 'Bob', 'Joe', 'Mike'], 'car': ['Nissan LEAF', 'Volkswagen Golf', 'Mazda3', 'GMC Sierra']})\n",
    "df"
   ]
  },
  {
   "cell_type": "code",
   "execution_count": 65,
   "metadata": {
    "slideshow": {
     "slide_type": "fragment"
    }
   },
   "outputs": [
    {
     "data": {
      "text/html": [
       "<div>\n",
       "<style scoped>\n",
       "    .dataframe tbody tr th:only-of-type {\n",
       "        vertical-align: middle;\n",
       "    }\n",
       "\n",
       "    .dataframe tbody tr th {\n",
       "        vertical-align: top;\n",
       "    }\n",
       "\n",
       "    .dataframe thead th {\n",
       "        text-align: right;\n",
       "    }\n",
       "</style>\n",
       "<table border=\"1\" class=\"dataframe\">\n",
       "  <thead>\n",
       "    <tr style=\"text-align: right;\">\n",
       "      <th></th>\n",
       "      <th>car</th>\n",
       "      <th>user</th>\n",
       "    </tr>\n",
       "  </thead>\n",
       "  <tbody>\n",
       "    <tr>\n",
       "      <th>0</th>\n",
       "      <td>Nissan LEAF</td>\n",
       "      <td>Sam</td>\n",
       "    </tr>\n",
       "  </tbody>\n",
       "</table>\n",
       "</div>"
      ],
      "text/plain": [
       "           car user\n",
       "0  Nissan LEAF  Sam"
      ]
     },
     "execution_count": 65,
     "metadata": {},
     "output_type": "execute_result"
    }
   ],
   "source": [
    "df[df['car'] == 'Nissan LEAF']"
   ]
  },
  {
   "cell_type": "code",
   "execution_count": 56,
   "metadata": {
    "slideshow": {
     "slide_type": "fragment"
    }
   },
   "outputs": [
    {
     "data": {
      "text/html": [
       "<div>\n",
       "<style scoped>\n",
       "    .dataframe tbody tr th:only-of-type {\n",
       "        vertical-align: middle;\n",
       "    }\n",
       "\n",
       "    .dataframe tbody tr th {\n",
       "        vertical-align: top;\n",
       "    }\n",
       "\n",
       "    .dataframe thead th {\n",
       "        text-align: right;\n",
       "    }\n",
       "</style>\n",
       "<table border=\"1\" class=\"dataframe\">\n",
       "  <thead>\n",
       "    <tr style=\"text-align: right;\">\n",
       "      <th></th>\n",
       "      <th>car</th>\n",
       "      <th>user</th>\n",
       "    </tr>\n",
       "  </thead>\n",
       "  <tbody>\n",
       "    <tr>\n",
       "      <th>0</th>\n",
       "      <td>Nissan LEAF</td>\n",
       "      <td>Sam</td>\n",
       "    </tr>\n",
       "  </tbody>\n",
       "</table>\n",
       "</div>"
      ],
      "text/plain": [
       "           car user\n",
       "0  Nissan LEAF  Sam"
      ]
     },
     "execution_count": 56,
     "metadata": {},
     "output_type": "execute_result"
    }
   ],
   "source": [
    "df.__getitem__(df.__getitem__('car').__eq__('Nissan LEAF'))"
   ]
  },
  {
   "cell_type": "code",
   "execution_count": null,
   "metadata": {},
   "outputs": [],
   "source": []
  },
  {
   "cell_type": "code",
   "execution_count": 77,
   "metadata": {
    "slideshow": {
     "slide_type": "fragment"
    }
   },
   "outputs": [],
   "source": [
    "class Vector3d:\n",
    "    def __init__(self, x, y, z):\n",
    "        self.x = x\n",
    "        self.y = y\n",
    "        self.z = z\n",
    "    \n",
    "    def __add__(self, other):\n",
    "        x = self.x + other.x\n",
    "        y = self.y + other.y\n",
    "        z = self.z + other.z\n",
    "        return Vector3d(x, y, z)\n",
    "    \n",
    "    def __call__(self, *args):\n",
    "        self.__class__(*args)\n",
    "    \n",
    "    def __str__(self):\n",
    "        return f'({self.x}, {self.y}, {self.z})'\n",
    "    \n",
    "    def __repr__(self):\n",
    "        return f'Vector3d({self.x!r}, {self.y!r}, {self.z!r})'"
   ]
  },
  {
   "cell_type": "code",
   "execution_count": 78,
   "metadata": {
    "slideshow": {
     "slide_type": "fragment"
    }
   },
   "outputs": [],
   "source": [
    "Vector3d(1, 3, 2).__add__(Vector3d(1, 3, 2))\n",
    "\n",
    "# Vector3d(1, 3, 2) + Vector3d(1, 3, 2)\n",
    "Vector3d(1, 3, 2)"
   ]
  },
  {
   "cell_type": "code",
   "execution_count": 73,
   "metadata": {
    "slideshow": {
     "slide_type": "fragment"
    }
   },
   "outputs": [
    {
     "name": "stdout",
     "output_type": "stream",
     "text": [
      "(1, 3, 2)\n"
     ]
    },
    {
     "data": {
      "text/plain": [
       "Vector3d(1, 3, 2)"
      ]
     },
     "execution_count": 73,
     "metadata": {},
     "output_type": "execute_result"
    }
   ],
   "source": [
    "print(Vector3d(1,3,2)) # -> (2, 3, 2)\n",
    "Vector3d(1,3,2)"
   ]
  },
  {
   "cell_type": "code",
   "execution_count": 79,
   "metadata": {
    "slideshow": {
     "slide_type": "slide"
    }
   },
   "outputs": [
    {
     "data": {
      "text/plain": [
       "<__main__.Point at 0x10c815240>"
      ]
     },
     "execution_count": 79,
     "metadata": {},
     "output_type": "execute_result"
    }
   ],
   "source": [
    "# class methods\n",
    "class Point:\n",
    "    instant_count = 0\n",
    "    def __init__(self, x, y):\n",
    "        self.x = x\n",
    "        self.y = y\n",
    "        self.instant_count += 1\n",
    "    \n",
    "    @classmethod\n",
    "    def origin(cls):\n",
    "        return cls(0, 0)\n",
    "\n",
    "\n",
    "p = Point(1,2)\n",
    "p.instant_count\n",
    "\n",
    "Point.origin() # on class\n",
    "p.origin() # on instance"
   ]
  },
  {
   "cell_type": "code",
   "execution_count": 80,
   "metadata": {
    "slideshow": {
     "slide_type": "slide"
    }
   },
   "outputs": [],
   "source": [
    "s = ''\n"
   ]
  },
  {
   "cell_type": "code",
   "execution_count": 83,
   "metadata": {
    "slideshow": {
     "slide_type": "slide"
    }
   },
   "outputs": [],
   "source": [
    "class Node:\n",
    "    def __init__(self, value, left=None, right=None):\n",
    "        self.value = value\n",
    "        self.left = left\n",
    "        self.right = right\n",
    "        \n",
    "    def __contains__(self, value):\n",
    "        for v in iter(self):\n",
    "            if value == v: return True\n",
    "        return False\n",
    "        \n",
    "    def __iter__(self):\n",
    "        # depth first inorder traversal\n",
    "        if self.left:\n",
    "            yield from iter(self.left)\n",
    "        yield self.value\n",
    "        if self.right:\n",
    "            yield from iter(self.right)"
   ]
  },
  {
   "cell_type": "code",
   "execution_count": 88,
   "metadata": {
    "slideshow": {
     "slide_type": "fragment"
    }
   },
   "outputs": [
    {
     "data": {
      "text/plain": [
       "True"
      ]
     },
     "execution_count": 88,
     "metadata": {},
     "output_type": "execute_result"
    }
   ],
   "source": [
    "\"\"\"\n",
    "       j    <-- root\n",
    "     /   \\\n",
    "    f      k\n",
    "  /   \\      \\\n",
    " a     h      z\n",
    "  \\\n",
    "   d\n",
    "\"\"\"\n",
    "\n",
    "tree = Node('j', \n",
    "         left=Node('f',\n",
    "                   left=Node('a', right=Node('d')), \n",
    "                   right=Node('h')\n",
    "        ),\n",
    "        right=Node('k', right='z')\n",
    ")\n",
    "'h' in tree\n",
    "tree.___contains('h')\n",
    "#for val in tree:\n",
    "#    print(val)"
   ]
  },
  {
   "cell_type": "code",
   "execution_count": null,
   "metadata": {},
   "outputs": [],
   "source": []
  },
  {
   "cell_type": "code",
   "execution_count": null,
   "metadata": {},
   "outputs": [],
   "source": []
  }
 ],
 "metadata": {
  "celltoolbar": "Slideshow",
  "kernelspec": {
   "display_name": "Python 3",
   "language": "python",
   "name": "python3"
  },
  "language_info": {
   "codemirror_mode": {
    "name": "ipython",
    "version": 3
   },
   "file_extension": ".py",
   "mimetype": "text/x-python",
   "name": "python",
   "nbconvert_exporter": "python",
   "pygments_lexer": "ipython3",
   "version": "3.6.4"
  }
 },
 "nbformat": 4,
 "nbformat_minor": 2
}
